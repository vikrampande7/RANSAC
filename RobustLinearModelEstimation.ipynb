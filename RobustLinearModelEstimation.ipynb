{
 "cells": [
  {
   "cell_type": "markdown",
   "id": "1d983e17",
   "metadata": {},
   "source": [
    "### Comparison between fitting - Linear Regression and RANSAC regression"
   ]
  },
  {
   "cell_type": "markdown",
   "id": "38df8ea2",
   "metadata": {},
   "source": [
    "#### Reference - https://scikit-learn.org/stable/auto_examples/linear_model/plot_ransac.html"
   ]
  },
  {
   "cell_type": "code",
   "execution_count": 1,
   "id": "8b0c31fb",
   "metadata": {},
   "outputs": [],
   "source": [
    "import numpy as np\n",
    "from matplotlib import pyplot as plt\n",
    "from sklearn import linear_model, datasets"
   ]
  },
  {
   "cell_type": "code",
   "execution_count": 2,
   "id": "a7b0e31e",
   "metadata": {},
   "outputs": [],
   "source": [
    "# Define samples and outliers\n",
    "n_samples = 1000\n",
    "n_outliers = 50"
   ]
  },
  {
   "cell_type": "code",
   "execution_count": 3,
   "id": "51978a2f",
   "metadata": {},
   "outputs": [],
   "source": [
    "# Define X Y and COEF\n",
    "X, y, coef = datasets.make_regression(\n",
    "    n_samples=n_samples,\n",
    "    n_features=1,\n",
    "    n_informative=1,\n",
    "    noise=10,\n",
    "    coef=True,\n",
    "    random_state=0,\n",
    ")"
   ]
  },
  {
   "cell_type": "code",
   "execution_count": 4,
   "id": "6500f010",
   "metadata": {},
   "outputs": [
    {
     "name": "stdout",
     "output_type": "stream",
     "text": [
      "(1000, 1) (1000,) 82.1903908407869\n"
     ]
    }
   ],
   "source": [
    "# printing components\n",
    "print(X.shape, y.shape, coef)"
   ]
  },
  {
   "cell_type": "code",
   "execution_count": 5,
   "id": "9b0a69e6",
   "metadata": {},
   "outputs": [],
   "source": [
    "# Add outlier data\n",
    "np.random.seed(0) #for same output \n",
    "X[:n_outliers] = 3 + 0.5 * np.random.normal(size=(n_outliers, 1))\n",
    "y[:n_outliers] = -3 + 10 * np.random.normal(size=n_outliers)"
   ]
  },
  {
   "cell_type": "code",
   "execution_count": 6,
   "id": "7d100f97",
   "metadata": {},
   "outputs": [
    {
     "data": {
      "text/plain": [
       "LinearRegression()"
      ]
     },
     "execution_count": 6,
     "metadata": {},
     "output_type": "execute_result"
    }
   ],
   "source": [
    "# Linear Regressor\n",
    "lr = linear_model.LinearRegression()\n",
    "lr.fit(X, y)"
   ]
  },
  {
   "cell_type": "code",
   "execution_count": 7,
   "id": "9924b87d",
   "metadata": {},
   "outputs": [],
   "source": [
    "# Robustly fit linear model with RANSAC algorithm\n",
    "ransac = linear_model.RANSACRegressor()\n",
    "ransac.fit(X, y)\n",
    "inlier_mask = ransac.inlier_mask_\n",
    "outlier_mask = np.logical_not(inlier_mask)"
   ]
  },
  {
   "cell_type": "code",
   "execution_count": 8,
   "id": "b4e06158",
   "metadata": {},
   "outputs": [],
   "source": [
    "# Predict data of estimated models\n",
    "line_X = np.arange(X.min(), X.max())[:, np.newaxis]\n",
    "line_y = lr.predict(line_X)\n",
    "line_y_ransac = ransac.predict(line_X)"
   ]
  },
  {
   "cell_type": "code",
   "execution_count": 9,
   "id": "cf1743fe",
   "metadata": {},
   "outputs": [
    {
     "name": "stdout",
     "output_type": "stream",
     "text": [
      "Estimated coefficients (true, linear regression, RANSAC):\n",
      "82.1903908407869 [54.17236387] [82.08533159]\n"
     ]
    }
   ],
   "source": [
    "# Compare estimated coefficients\n",
    "print(\"Estimated coefficients (true, linear regression, RANSAC):\")\n",
    "print(coef, lr.coef_, ransac.estimator_.coef_)"
   ]
  },
  {
   "cell_type": "markdown",
   "id": "34f10793",
   "metadata": {},
   "source": [
    "#### RANSAC estimation is better than Linear Estimations - almost equal coefficient"
   ]
  },
  {
   "cell_type": "code",
   "execution_count": 10,
   "id": "01745b00",
   "metadata": {},
   "outputs": [
    {
     "data": {
      "image/png": "[encoded data removed]",
      "text/plain": [
       "<Figure size 432x288 with 1 Axes>"
      ]
     },
     "metadata": {
      "needs_background": "light"
     },
     "output_type": "display_data"
    }
   ],
   "source": [
    "lw = 2\n",
    "plt.scatter(\n",
    "    X[inlier_mask], y[inlier_mask], color=\"yellowgreen\", marker=\".\", label=\"Inliers\"\n",
    ")\n",
    "plt.scatter(\n",
    "    X[outlier_mask], y[outlier_mask], color=\"gold\", marker=\".\", label=\"Outliers\"\n",
    ")\n",
    "plt.plot(line_X, line_y, color=\"navy\", linewidth=lw, label=\"Linear regressor\")\n",
    "plt.plot(\n",
    "    line_X,\n",
    "    line_y_ransac,\n",
    "    color=\"cornflowerblue\",\n",
    "    linewidth=lw,\n",
    "    label=\"RANSAC regressor\",\n",
    ")\n",
    "plt.legend(loc=\"lower right\")\n",
    "plt.xlabel(\"Input\")\n",
    "plt.ylabel(\"Response\")\n",
    "plt.show()"
   ]
  },
  {
   "cell_type": "markdown",
   "id": "d4cb3cea",
   "metadata": {},
   "source": [
    "Observed :\n",
    "\n",
    "n_samples = 500\n",
    "n_outliers = 25\n",
    "Estimated coefficients (true, linear regression, RANSAC):\n",
    "45.705876133136734 [29.22202006] [45.49106226]\n",
    "\n",
    "n_samples = 1000\n",
    "n_outliers = 25\n",
    "Estimated coefficients (true, linear regression, RANSAC):\n",
    "82.1903908407869 [63.79365652] [82.11806316]\n",
    "\n",
    "\n",
    "n_samples = 10000\n",
    "n_outliers = 100\n",
    "Estimated coefficients (true, linear regression, RANSAC):\n",
    "9.566664723066065 [8.59092755] [11.34489522]\n",
    "\n",
    "n_samples = 10000\n",
    "n_outliers = 1000\n",
    "Estimated coefficients (true, linear regression, RANSAC):\n",
    "9.566664723066065 [4.48222639] [7.62774268]\n",
    "\n",
    "n_samples = 10000\n",
    "n_outliers = 5000\n",
    "Estimated coefficients (true, linear regression, RANSAC):\n",
    "9.566664723066065 [0.85034141] [-0.33440958]\n",
    "\n",
    "n_samples = 10000\n",
    "n_outliers = 10000\n",
    "Estimated coefficients (true, linear regression, RANSAC):\n",
    "9.566664723066065 [-0.15604951] [2.87261112]"
   ]
  },
  {
   "cell_type": "code",
   "execution_count": null,
   "id": "254e1911",
   "metadata": {},
   "outputs": [],
   "source": []
  }
 ],
 "metadata": {
  "kernelspec": {
   "display_name": "Python 3",
   "language": "python",
   "name": "python3"
  },
  "language_info": {
   "codemirror_mode": {
    "name": "ipython",
    "version": 3
   },
   "file_extension": ".py",
   "mimetype": "text/x-python",
   "name": "python",
   "nbconvert_exporter": "python",
   "pygments_lexer": "ipython3",
   "version": "3.8.8"
  }
 },
 "nbformat": 4,
 "nbformat_minor": 5
}
